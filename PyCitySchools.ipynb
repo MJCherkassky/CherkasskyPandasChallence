{
 "nbformat": 4,
 "nbformat_minor": 2,
 "metadata": {
  "language_info": {
   "name": "python",
   "codemirror_mode": {
    "name": "ipython",
    "version": 3
   },
   "version": "3.7.4-final"
  },
  "orig_nbformat": 2,
  "file_extension": ".py",
  "mimetype": "text/x-python",
  "name": "python",
  "npconvert_exporter": "python",
  "pygments_lexer": "ipython3",
  "version": 3,
  "kernelspec": {
   "name": "python3",
   "display_name": "Python 3"
  }
 },
 "cells": [
  {
   "cell_type": "code",
   "execution_count": 1,
   "metadata": {},
   "outputs": [],
   "source": [
    "import pandas as pd\n",
    "import numpy as np"
   ]
  },
  {
   "cell_type": "code",
   "execution_count": 2,
   "metadata": {},
   "outputs": [],
   "source": [
    "school_data_to_load = \"Resources/schools_complete.csv\"\n",
    "student_data_to_load = \"Resources/students_complete.csv\""
   ]
  },
  {
   "cell_type": "code",
   "execution_count": 3,
   "metadata": {},
   "outputs": [],
   "source": [
    "school_data = pd.read_csv(school_data_to_load)\n",
    "student_data = pd.read_csv(student_data_to_load)"
   ]
  },
  {
   "cell_type": "code",
   "execution_count": 4,
   "metadata": {},
   "outputs": [
    {
     "output_type": "execute_result",
     "data": {
      "text/plain": "   Student ID       student_name gender grade        school_name  \\\n0           0       Paul Bradley      M   9th  Huang High School   \n1           1       Victor Smith      M  12th  Huang High School   \n2           2    Kevin Rodriguez      M  12th  Huang High School   \n3           3  Dr. Richard Scott      M  12th  Huang High School   \n4           4         Bonnie Ray      F   9th  Huang High School   \n\n   reading_score  math_score  School ID      type  size   budget  \n0             66          79          0  District  2917  1910635  \n1             94          61          0  District  2917  1910635  \n2             90          60          0  District  2917  1910635  \n3             67          58          0  District  2917  1910635  \n4             97          84          0  District  2917  1910635  ",
      "text/html": "<div>\n<style scoped>\n    .dataframe tbody tr th:only-of-type {\n        vertical-align: middle;\n    }\n\n    .dataframe tbody tr th {\n        vertical-align: top;\n    }\n\n    .dataframe thead th {\n        text-align: right;\n    }\n</style>\n<table border=\"1\" class=\"dataframe\">\n  <thead>\n    <tr style=\"text-align: right;\">\n      <th></th>\n      <th>Student ID</th>\n      <th>student_name</th>\n      <th>gender</th>\n      <th>grade</th>\n      <th>school_name</th>\n      <th>reading_score</th>\n      <th>math_score</th>\n      <th>School ID</th>\n      <th>type</th>\n      <th>size</th>\n      <th>budget</th>\n    </tr>\n  </thead>\n  <tbody>\n    <tr>\n      <th>0</th>\n      <td>0</td>\n      <td>Paul Bradley</td>\n      <td>M</td>\n      <td>9th</td>\n      <td>Huang High School</td>\n      <td>66</td>\n      <td>79</td>\n      <td>0</td>\n      <td>District</td>\n      <td>2917</td>\n      <td>1910635</td>\n    </tr>\n    <tr>\n      <th>1</th>\n      <td>1</td>\n      <td>Victor Smith</td>\n      <td>M</td>\n      <td>12th</td>\n      <td>Huang High School</td>\n      <td>94</td>\n      <td>61</td>\n      <td>0</td>\n      <td>District</td>\n      <td>2917</td>\n      <td>1910635</td>\n    </tr>\n    <tr>\n      <th>2</th>\n      <td>2</td>\n      <td>Kevin Rodriguez</td>\n      <td>M</td>\n      <td>12th</td>\n      <td>Huang High School</td>\n      <td>90</td>\n      <td>60</td>\n      <td>0</td>\n      <td>District</td>\n      <td>2917</td>\n      <td>1910635</td>\n    </tr>\n    <tr>\n      <th>3</th>\n      <td>3</td>\n      <td>Dr. Richard Scott</td>\n      <td>M</td>\n      <td>12th</td>\n      <td>Huang High School</td>\n      <td>67</td>\n      <td>58</td>\n      <td>0</td>\n      <td>District</td>\n      <td>2917</td>\n      <td>1910635</td>\n    </tr>\n    <tr>\n      <th>4</th>\n      <td>4</td>\n      <td>Bonnie Ray</td>\n      <td>F</td>\n      <td>9th</td>\n      <td>Huang High School</td>\n      <td>97</td>\n      <td>84</td>\n      <td>0</td>\n      <td>District</td>\n      <td>2917</td>\n      <td>1910635</td>\n    </tr>\n  </tbody>\n</table>\n</div>"
     },
     "metadata": {},
     "execution_count": 4
    }
   ],
   "source": [
    "school_data_complete = pd.merge(student_data, school_data, how=\"left\", on=[\"school_name\", \"school_name\"])\n",
    "sdc=school_data_complete.copy()\n",
    "sdc.head()"
   ]
  },
  {
   "cell_type": "code",
   "execution_count": 5,
   "metadata": {},
   "outputs": [
    {
     "output_type": "execute_result",
     "data": {
      "text/plain": "            Total Schools  Total Students  Total Budget  Average Math Score  \\\nStudent ID             15           39170      24649428           78.985371   \n\n            Average Reading Score  % Passing Math  % Passing Reading  \\\nStudent ID               81.87784        0.749809           0.858055   \n\n            Overall Passing Rate  \nStudent ID              0.803932  ",
      "text/html": "<div>\n<style scoped>\n    .dataframe tbody tr th:only-of-type {\n        vertical-align: middle;\n    }\n\n    .dataframe tbody tr th {\n        vertical-align: top;\n    }\n\n    .dataframe thead th {\n        text-align: right;\n    }\n</style>\n<table border=\"1\" class=\"dataframe\">\n  <thead>\n    <tr style=\"text-align: right;\">\n      <th></th>\n      <th>Total Schools</th>\n      <th>Total Students</th>\n      <th>Total Budget</th>\n      <th>Average Math Score</th>\n      <th>Average Reading Score</th>\n      <th>% Passing Math</th>\n      <th>% Passing Reading</th>\n      <th>Overall Passing Rate</th>\n    </tr>\n  </thead>\n  <tbody>\n    <tr>\n      <th>Student ID</th>\n      <td>15</td>\n      <td>39170</td>\n      <td>24649428</td>\n      <td>78.985371</td>\n      <td>81.87784</td>\n      <td>0.749809</td>\n      <td>0.858055</td>\n      <td>0.803932</td>\n    </tr>\n  </tbody>\n</table>\n</div>"
     },
     "metadata": {},
     "execution_count": 5
    }
   ],
   "source": [
    "totalschools = sdc.school_name.nunique()\n",
    "totalstudents = sdc[\"Student ID\"].count()\n",
    "totalbudget = (sdc.budget.unique()).sum()\n",
    "avgmath = (sdc.math_score.sum())/totalstudents\n",
    "avgreading = (sdc.reading_score.sum())/totalstudents\n",
    "percentpassmath = sdc.loc[sdc.math_score >= 70, [\"Student ID\"]].count()/totalstudents\n",
    "percentpassreading = sdc.loc[sdc.reading_score >= 70, [\"Student ID\"]].count()/totalstudents\n",
    "overallpassingrate = (percentpassmath+percentpassreading)/2\n",
    "\n",
    "highleveldf = pd.DataFrame({\"Total Schools\":totalschools,\n",
    "                            \"Total Students\":totalstudents,\n",
    "                            \"Total Budget\":totalbudget,\n",
    "                            \"Average Math Score\":avgmath,\n",
    "                            \"Average Reading Score\":avgreading,\n",
    "                            \"% Passing Math\":percentpassmath,\n",
    "                            \"% Passing Reading\":percentpassreading,\n",
    "                            \"Overall Passing Rate\":overallpassingrate})\n",
    "highleveldf"
   ]
  },
  {
   "cell_type": "code",
   "execution_count": 9,
   "metadata": {},
   "outputs": [
    {
     "output_type": "execute_result",
     "data": {
      "text/plain": "                    Student ID       student_name gender grade  reading_score  \\\nschool_name                                                                     \nHuang High School            0       Paul Bradley      M   9th             66   \nHuang High School            1       Victor Smith      M  12th             94   \nHuang High School            2    Kevin Rodriguez      M  12th             90   \nHuang High School            3  Dr. Richard Scott      M  12th             67   \nHuang High School            4         Bonnie Ray      F   9th             97   \n...                        ...                ...    ...   ...            ...   \nThomas High School       37535         Norma Mata      F  10th             76   \nThomas High School       37536        Cody Miller      M  11th             84   \nThomas High School       37537        Erik Snyder      M   9th             80   \nThomas High School       37538     Tanya Martinez      F   9th             71   \nThomas High School       37539      Noah Erickson      M   9th             86   \n\n                    math_score  School ID      type  size   budget  \nschool_name                                                         \nHuang High School           79          0  District  2917  1910635  \nHuang High School           61          0  District  2917  1910635  \nHuang High School           60          0  District  2917  1910635  \nHuang High School           58          0  District  2917  1910635  \nHuang High School           84          0  District  2917  1910635  \n...                        ...        ...       ...   ...      ...  \nThomas High School          76         14   Charter  1635  1043130  \nThomas High School          82         14   Charter  1635  1043130  \nThomas High School          90         14   Charter  1635  1043130  \nThomas High School          69         14   Charter  1635  1043130  \nThomas High School          76         14   Charter  1635  1043130  \n\n[75 rows x 10 columns]",
      "text/html": "<div>\n<style scoped>\n    .dataframe tbody tr th:only-of-type {\n        vertical-align: middle;\n    }\n\n    .dataframe tbody tr th {\n        vertical-align: top;\n    }\n\n    .dataframe thead th {\n        text-align: right;\n    }\n</style>\n<table border=\"1\" class=\"dataframe\">\n  <thead>\n    <tr style=\"text-align: right;\">\n      <th></th>\n      <th>Student ID</th>\n      <th>student_name</th>\n      <th>gender</th>\n      <th>grade</th>\n      <th>reading_score</th>\n      <th>math_score</th>\n      <th>School ID</th>\n      <th>type</th>\n      <th>size</th>\n      <th>budget</th>\n    </tr>\n    <tr>\n      <th>school_name</th>\n      <th></th>\n      <th></th>\n      <th></th>\n      <th></th>\n      <th></th>\n      <th></th>\n      <th></th>\n      <th></th>\n      <th></th>\n      <th></th>\n    </tr>\n  </thead>\n  <tbody>\n    <tr>\n      <th>Huang High School</th>\n      <td>0</td>\n      <td>Paul Bradley</td>\n      <td>M</td>\n      <td>9th</td>\n      <td>66</td>\n      <td>79</td>\n      <td>0</td>\n      <td>District</td>\n      <td>2917</td>\n      <td>1910635</td>\n    </tr>\n    <tr>\n      <th>Huang High School</th>\n      <td>1</td>\n      <td>Victor Smith</td>\n      <td>M</td>\n      <td>12th</td>\n      <td>94</td>\n      <td>61</td>\n      <td>0</td>\n      <td>District</td>\n      <td>2917</td>\n      <td>1910635</td>\n    </tr>\n    <tr>\n      <th>Huang High School</th>\n      <td>2</td>\n      <td>Kevin Rodriguez</td>\n      <td>M</td>\n      <td>12th</td>\n      <td>90</td>\n      <td>60</td>\n      <td>0</td>\n      <td>District</td>\n      <td>2917</td>\n      <td>1910635</td>\n    </tr>\n    <tr>\n      <th>Huang High School</th>\n      <td>3</td>\n      <td>Dr. Richard Scott</td>\n      <td>M</td>\n      <td>12th</td>\n      <td>67</td>\n      <td>58</td>\n      <td>0</td>\n      <td>District</td>\n      <td>2917</td>\n      <td>1910635</td>\n    </tr>\n    <tr>\n      <th>Huang High School</th>\n      <td>4</td>\n      <td>Bonnie Ray</td>\n      <td>F</td>\n      <td>9th</td>\n      <td>97</td>\n      <td>84</td>\n      <td>0</td>\n      <td>District</td>\n      <td>2917</td>\n      <td>1910635</td>\n    </tr>\n    <tr>\n      <th>...</th>\n      <td>...</td>\n      <td>...</td>\n      <td>...</td>\n      <td>...</td>\n      <td>...</td>\n      <td>...</td>\n      <td>...</td>\n      <td>...</td>\n      <td>...</td>\n      <td>...</td>\n    </tr>\n    <tr>\n      <th>Thomas High School</th>\n      <td>37535</td>\n      <td>Norma Mata</td>\n      <td>F</td>\n      <td>10th</td>\n      <td>76</td>\n      <td>76</td>\n      <td>14</td>\n      <td>Charter</td>\n      <td>1635</td>\n      <td>1043130</td>\n    </tr>\n    <tr>\n      <th>Thomas High School</th>\n      <td>37536</td>\n      <td>Cody Miller</td>\n      <td>M</td>\n      <td>11th</td>\n      <td>84</td>\n      <td>82</td>\n      <td>14</td>\n      <td>Charter</td>\n      <td>1635</td>\n      <td>1043130</td>\n    </tr>\n    <tr>\n      <th>Thomas High School</th>\n      <td>37537</td>\n      <td>Erik Snyder</td>\n      <td>M</td>\n      <td>9th</td>\n      <td>80</td>\n      <td>90</td>\n      <td>14</td>\n      <td>Charter</td>\n      <td>1635</td>\n      <td>1043130</td>\n    </tr>\n    <tr>\n      <th>Thomas High School</th>\n      <td>37538</td>\n      <td>Tanya Martinez</td>\n      <td>F</td>\n      <td>9th</td>\n      <td>71</td>\n      <td>69</td>\n      <td>14</td>\n      <td>Charter</td>\n      <td>1635</td>\n      <td>1043130</td>\n    </tr>\n    <tr>\n      <th>Thomas High School</th>\n      <td>37539</td>\n      <td>Noah Erickson</td>\n      <td>M</td>\n      <td>9th</td>\n      <td>86</td>\n      <td>76</td>\n      <td>14</td>\n      <td>Charter</td>\n      <td>1635</td>\n      <td>1043130</td>\n    </tr>\n  </tbody>\n</table>\n<p>75 rows × 10 columns</p>\n</div>"
     },
     "metadata": {},
     "execution_count": 9
    }
   ],
   "source": [
    "groupbyschool = sdc.set_index(\"school_name\").groupby([\"school_name\"])\n",
    "\n",
    "groupbyschool.head()"
   ]
  },
  {
   "cell_type": "code",
   "execution_count": 40,
   "metadata": {},
   "outputs": [
    {
     "output_type": "execute_result",
     "data": {
      "text/plain": "school_name\nBailey High School       0.819333\nCabrera High School      0.970398\nFigueroa High School     0.807392\nFord High School         0.792990\nGriffin High School      0.971390\nHernandez High School    0.808630\nHolden High School       0.962529\nHuang High School        0.813164\nJohnson High School      0.812224\nPena High School         0.959459\nRodriguez High School    0.802201\nShelton High School      0.958546\nThomas High School       0.973089\nWilson High School       0.965396\nWright High School       0.966111\nName: Student ID, dtype: float64"
     },
     "metadata": {},
     "execution_count": 40
    }
   ],
   "source": [
    "studentsperschool=groupbyschool[\"Student ID\"].count()\n",
    "budgetperschool= groupbyschool.budget.unique()\n",
    "budgetperstudent=budgetperschool/studentsperschool\n",
    "avgmathscore = groupbyschool.math_score.mean()\n",
    "avgreadscore = groupbyschool.reading_score.mean()\n",
    "sdc[sdc[\"math_score\"] >= 70].groupby(\"school_name\")[\"Student ID\"].count()/studentsperschool\n",
    "sdc[sdc[\"reading_score\"] >= 70].groupby(\"school_name\")[\"Student ID\"].count()/studentsperschool"
   ]
  },
  {
   "cell_type": "code",
   "execution_count": 39,
   "metadata": {},
   "outputs": [],
   "source": [
    "schooltypes = groupbyschool.type.unique()\n",
    "studentsperschool=groupbyschool[\"Student ID\"].count()\n",
    "budgetperschool= groupbyschool.budget.unique()\n",
    "avgmathperschool=groupbyschool.math_score.mean()\n",
    "mathpass = sdc[sdc[\"math_score\"] >= 70].groupby(\"school_name\")[\"Student ID\"].count()/studentsperschool\n",
    "readpass = sdc[sdc[\"reading_score\"] >= 70].groupby(\"school_name\")[\"Student ID\"].count()/studentsperschool\n",
    "overpass = (mathpass + readpass)/2"
   ]
  },
  {
   "cell_type": "code",
   "execution_count": 41,
   "metadata": {},
   "outputs": [
    {
     "output_type": "execute_result",
     "data": {
      "text/plain": "                      School Types  Students Per School Budget Per School  \\\nschool_name                                                                 \nBailey High School      [District]                 4976         [3124928]   \nCabrera High School      [Charter]                 1858         [1081356]   \nFigueroa High School    [District]                 2949         [1884411]   \nFord High School        [District]                 2739         [1763916]   \nGriffin High School      [Charter]                 1468          [917500]   \nHernandez High School   [District]                 4635         [3022020]   \nHolden High School       [Charter]                  427          [248087]   \nHuang High School       [District]                 2917         [1910635]   \nJohnson High School     [District]                 4761         [3094650]   \nPena High School         [Charter]                  962          [585858]   \nRodriguez High School   [District]                 3999         [2547363]   \nShelton High School      [Charter]                 1761         [1056600]   \nThomas High School       [Charter]                 1635         [1043130]   \nWilson High School       [Charter]                 2283         [1319574]   \nWright High School       [Charter]                 1800         [1049400]   \n\n                      Budget Per Student  Average Math Score  \\\nschool_name                                                    \nBailey High School               [628.0]           77.048432   \nCabrera High School              [582.0]           83.061895   \nFigueroa High School             [639.0]           76.711767   \nFord High School                 [644.0]           77.102592   \nGriffin High School              [625.0]           83.351499   \nHernandez High School            [652.0]           77.289752   \nHolden High School               [581.0]           83.803279   \nHuang High School                [655.0]           76.629414   \nJohnson High School              [650.0]           77.072464   \nPena High School                 [609.0]           83.839917   \nRodriguez High School            [637.0]           76.842711   \nShelton High School              [600.0]           83.359455   \nThomas High School               [638.0]           83.418349   \nWilson High School               [578.0]           83.274201   \nWright High School               [583.0]           83.682222   \n\n                       Average Reading Score  % Passing Math  \\\nschool_name                                                    \nBailey High School                 81.033963        0.666801   \nCabrera High School                83.975780        0.941335   \nFigueroa High School               81.158020        0.659885   \nFord High School                   80.746258        0.683096   \nGriffin High School                83.816757        0.933924   \nHernandez High School              80.934412        0.667530   \nHolden High School                 83.814988        0.925059   \nHuang High School                  81.182722        0.656839   \nJohnson High School                80.966394        0.660576   \nPena High School                   84.044699        0.945946   \nRodriguez High School              80.744686        0.663666   \nShelton High School                83.725724        0.938671   \nThomas High School                 83.848930        0.932722   \nWilson High School                 83.989488        0.938677   \nWright High School                 83.955000        0.933333   \n\n                       % Passing Reading  Overall Passing Rate  \nschool_name                                                     \nBailey High School              0.819333              0.743067  \nCabrera High School             0.970398              0.955867  \nFigueroa High School            0.807392              0.733639  \nFord High School                0.792990              0.738043  \nGriffin High School             0.971390              0.952657  \nHernandez High School           0.808630              0.738080  \nHolden High School              0.962529              0.943794  \nHuang High School               0.813164              0.735002  \nJohnson High School             0.812224              0.736400  \nPena High School                0.959459              0.952703  \nRodriguez High School           0.802201              0.732933  \nShelton High School             0.958546              0.948609  \nThomas High School              0.973089              0.952905  \nWilson High School              0.965396              0.952037  \nWright High School              0.966111              0.949722  ",
      "text/html": "<div>\n<style scoped>\n    .dataframe tbody tr th:only-of-type {\n        vertical-align: middle;\n    }\n\n    .dataframe tbody tr th {\n        vertical-align: top;\n    }\n\n    .dataframe thead th {\n        text-align: right;\n    }\n</style>\n<table border=\"1\" class=\"dataframe\">\n  <thead>\n    <tr style=\"text-align: right;\">\n      <th></th>\n      <th>School Types</th>\n      <th>Students Per School</th>\n      <th>Budget Per School</th>\n      <th>Budget Per Student</th>\n      <th>Average Math Score</th>\n      <th>Average Reading Score</th>\n      <th>% Passing Math</th>\n      <th>% Passing Reading</th>\n      <th>Overall Passing Rate</th>\n    </tr>\n    <tr>\n      <th>school_name</th>\n      <th></th>\n      <th></th>\n      <th></th>\n      <th></th>\n      <th></th>\n      <th></th>\n      <th></th>\n      <th></th>\n      <th></th>\n    </tr>\n  </thead>\n  <tbody>\n    <tr>\n      <th>Bailey High School</th>\n      <td>[District]</td>\n      <td>4976</td>\n      <td>[3124928]</td>\n      <td>[628.0]</td>\n      <td>77.048432</td>\n      <td>81.033963</td>\n      <td>0.666801</td>\n      <td>0.819333</td>\n      <td>0.743067</td>\n    </tr>\n    <tr>\n      <th>Cabrera High School</th>\n      <td>[Charter]</td>\n      <td>1858</td>\n      <td>[1081356]</td>\n      <td>[582.0]</td>\n      <td>83.061895</td>\n      <td>83.975780</td>\n      <td>0.941335</td>\n      <td>0.970398</td>\n      <td>0.955867</td>\n    </tr>\n    <tr>\n      <th>Figueroa High School</th>\n      <td>[District]</td>\n      <td>2949</td>\n      <td>[1884411]</td>\n      <td>[639.0]</td>\n      <td>76.711767</td>\n      <td>81.158020</td>\n      <td>0.659885</td>\n      <td>0.807392</td>\n      <td>0.733639</td>\n    </tr>\n    <tr>\n      <th>Ford High School</th>\n      <td>[District]</td>\n      <td>2739</td>\n      <td>[1763916]</td>\n      <td>[644.0]</td>\n      <td>77.102592</td>\n      <td>80.746258</td>\n      <td>0.683096</td>\n      <td>0.792990</td>\n      <td>0.738043</td>\n    </tr>\n    <tr>\n      <th>Griffin High School</th>\n      <td>[Charter]</td>\n      <td>1468</td>\n      <td>[917500]</td>\n      <td>[625.0]</td>\n      <td>83.351499</td>\n      <td>83.816757</td>\n      <td>0.933924</td>\n      <td>0.971390</td>\n      <td>0.952657</td>\n    </tr>\n    <tr>\n      <th>Hernandez High School</th>\n      <td>[District]</td>\n      <td>4635</td>\n      <td>[3022020]</td>\n      <td>[652.0]</td>\n      <td>77.289752</td>\n      <td>80.934412</td>\n      <td>0.667530</td>\n      <td>0.808630</td>\n      <td>0.738080</td>\n    </tr>\n    <tr>\n      <th>Holden High School</th>\n      <td>[Charter]</td>\n      <td>427</td>\n      <td>[248087]</td>\n      <td>[581.0]</td>\n      <td>83.803279</td>\n      <td>83.814988</td>\n      <td>0.925059</td>\n      <td>0.962529</td>\n      <td>0.943794</td>\n    </tr>\n    <tr>\n      <th>Huang High School</th>\n      <td>[District]</td>\n      <td>2917</td>\n      <td>[1910635]</td>\n      <td>[655.0]</td>\n      <td>76.629414</td>\n      <td>81.182722</td>\n      <td>0.656839</td>\n      <td>0.813164</td>\n      <td>0.735002</td>\n    </tr>\n    <tr>\n      <th>Johnson High School</th>\n      <td>[District]</td>\n      <td>4761</td>\n      <td>[3094650]</td>\n      <td>[650.0]</td>\n      <td>77.072464</td>\n      <td>80.966394</td>\n      <td>0.660576</td>\n      <td>0.812224</td>\n      <td>0.736400</td>\n    </tr>\n    <tr>\n      <th>Pena High School</th>\n      <td>[Charter]</td>\n      <td>962</td>\n      <td>[585858]</td>\n      <td>[609.0]</td>\n      <td>83.839917</td>\n      <td>84.044699</td>\n      <td>0.945946</td>\n      <td>0.959459</td>\n      <td>0.952703</td>\n    </tr>\n    <tr>\n      <th>Rodriguez High School</th>\n      <td>[District]</td>\n      <td>3999</td>\n      <td>[2547363]</td>\n      <td>[637.0]</td>\n      <td>76.842711</td>\n      <td>80.744686</td>\n      <td>0.663666</td>\n      <td>0.802201</td>\n      <td>0.732933</td>\n    </tr>\n    <tr>\n      <th>Shelton High School</th>\n      <td>[Charter]</td>\n      <td>1761</td>\n      <td>[1056600]</td>\n      <td>[600.0]</td>\n      <td>83.359455</td>\n      <td>83.725724</td>\n      <td>0.938671</td>\n      <td>0.958546</td>\n      <td>0.948609</td>\n    </tr>\n    <tr>\n      <th>Thomas High School</th>\n      <td>[Charter]</td>\n      <td>1635</td>\n      <td>[1043130]</td>\n      <td>[638.0]</td>\n      <td>83.418349</td>\n      <td>83.848930</td>\n      <td>0.932722</td>\n      <td>0.973089</td>\n      <td>0.952905</td>\n    </tr>\n    <tr>\n      <th>Wilson High School</th>\n      <td>[Charter]</td>\n      <td>2283</td>\n      <td>[1319574]</td>\n      <td>[578.0]</td>\n      <td>83.274201</td>\n      <td>83.989488</td>\n      <td>0.938677</td>\n      <td>0.965396</td>\n      <td>0.952037</td>\n    </tr>\n    <tr>\n      <th>Wright High School</th>\n      <td>[Charter]</td>\n      <td>1800</td>\n      <td>[1049400]</td>\n      <td>[583.0]</td>\n      <td>83.682222</td>\n      <td>83.955000</td>\n      <td>0.933333</td>\n      <td>0.966111</td>\n      <td>0.949722</td>\n    </tr>\n  </tbody>\n</table>\n</div>"
     },
     "metadata": {},
     "execution_count": 41
    }
   ],
   "source": [
    "schoolsummary = pd.DataFrame({\"School Types\":schooltypes,\n",
    "                            \"Students Per School\":studentsperschool,\n",
    "                            \"Budget Per School\":budgetperschool,\n",
    "                            \"Budget Per Student\":budgetperstudent,\n",
    "                            \"Average Math Score\": avgmathscore,\n",
    "                            \"Average Reading Score\":avgreadscore,\n",
    "                            \"% Passing Math\" : mathpass,\n",
    "                            \"% Passing Reading\": readpass,\n",
    "                            \"Overall Passing Rate\":overpass\n",
    "\n",
    "})\n",
    "schoolsummary"
   ]
  },
  {
   "cell_type": "code",
   "execution_count": 42,
   "metadata": {},
   "outputs": [
    {
     "output_type": "execute_result",
     "data": {
      "text/plain": "                    School Types  Students Per School Budget Per School  \\\nschool_name                                                               \nCabrera High School    [Charter]                 1858         [1081356]   \nThomas High School     [Charter]                 1635         [1043130]   \nPena High School       [Charter]                  962          [585858]   \nGriffin High School    [Charter]                 1468          [917500]   \nWilson High School     [Charter]                 2283         [1319574]   \n\n                    Budget Per Student  Average Math Score  \\\nschool_name                                                  \nCabrera High School            [582.0]           83.061895   \nThomas High School             [638.0]           83.418349   \nPena High School               [609.0]           83.839917   \nGriffin High School            [625.0]           83.351499   \nWilson High School             [578.0]           83.274201   \n\n                     Average Reading Score  % Passing Math  % Passing Reading  \\\nschool_name                                                                     \nCabrera High School              83.975780        0.941335           0.970398   \nThomas High School               83.848930        0.932722           0.973089   \nPena High School                 84.044699        0.945946           0.959459   \nGriffin High School              83.816757        0.933924           0.971390   \nWilson High School               83.989488        0.938677           0.965396   \n\n                     Overall Passing Rate  \nschool_name                                \nCabrera High School              0.955867  \nThomas High School               0.952905  \nPena High School                 0.952703  \nGriffin High School              0.952657  \nWilson High School               0.952037  ",
      "text/html": "<div>\n<style scoped>\n    .dataframe tbody tr th:only-of-type {\n        vertical-align: middle;\n    }\n\n    .dataframe tbody tr th {\n        vertical-align: top;\n    }\n\n    .dataframe thead th {\n        text-align: right;\n    }\n</style>\n<table border=\"1\" class=\"dataframe\">\n  <thead>\n    <tr style=\"text-align: right;\">\n      <th></th>\n      <th>School Types</th>\n      <th>Students Per School</th>\n      <th>Budget Per School</th>\n      <th>Budget Per Student</th>\n      <th>Average Math Score</th>\n      <th>Average Reading Score</th>\n      <th>% Passing Math</th>\n      <th>% Passing Reading</th>\n      <th>Overall Passing Rate</th>\n    </tr>\n    <tr>\n      <th>school_name</th>\n      <th></th>\n      <th></th>\n      <th></th>\n      <th></th>\n      <th></th>\n      <th></th>\n      <th></th>\n      <th></th>\n      <th></th>\n    </tr>\n  </thead>\n  <tbody>\n    <tr>\n      <th>Cabrera High School</th>\n      <td>[Charter]</td>\n      <td>1858</td>\n      <td>[1081356]</td>\n      <td>[582.0]</td>\n      <td>83.061895</td>\n      <td>83.975780</td>\n      <td>0.941335</td>\n      <td>0.970398</td>\n      <td>0.955867</td>\n    </tr>\n    <tr>\n      <th>Thomas High School</th>\n      <td>[Charter]</td>\n      <td>1635</td>\n      <td>[1043130]</td>\n      <td>[638.0]</td>\n      <td>83.418349</td>\n      <td>83.848930</td>\n      <td>0.932722</td>\n      <td>0.973089</td>\n      <td>0.952905</td>\n    </tr>\n    <tr>\n      <th>Pena High School</th>\n      <td>[Charter]</td>\n      <td>962</td>\n      <td>[585858]</td>\n      <td>[609.0]</td>\n      <td>83.839917</td>\n      <td>84.044699</td>\n      <td>0.945946</td>\n      <td>0.959459</td>\n      <td>0.952703</td>\n    </tr>\n    <tr>\n      <th>Griffin High School</th>\n      <td>[Charter]</td>\n      <td>1468</td>\n      <td>[917500]</td>\n      <td>[625.0]</td>\n      <td>83.351499</td>\n      <td>83.816757</td>\n      <td>0.933924</td>\n      <td>0.971390</td>\n      <td>0.952657</td>\n    </tr>\n    <tr>\n      <th>Wilson High School</th>\n      <td>[Charter]</td>\n      <td>2283</td>\n      <td>[1319574]</td>\n      <td>[578.0]</td>\n      <td>83.274201</td>\n      <td>83.989488</td>\n      <td>0.938677</td>\n      <td>0.965396</td>\n      <td>0.952037</td>\n    </tr>\n  </tbody>\n</table>\n</div>"
     },
     "metadata": {},
     "execution_count": 42
    }
   ],
   "source": [
    "schoolsummary.nlargest(5, [\"Overall Passing Rate\"])"
   ]
  },
  {
   "cell_type": "code",
   "execution_count": 43,
   "metadata": {},
   "outputs": [
    {
     "output_type": "execute_result",
     "data": {
      "text/plain": "                      School Types  Students Per School Budget Per School  \\\nschool_name                                                                 \nRodriguez High School   [District]                 3999         [2547363]   \nFigueroa High School    [District]                 2949         [1884411]   \nHuang High School       [District]                 2917         [1910635]   \nJohnson High School     [District]                 4761         [3094650]   \nFord High School        [District]                 2739         [1763916]   \n\n                      Budget Per Student  Average Math Score  \\\nschool_name                                                    \nRodriguez High School            [637.0]           76.842711   \nFigueroa High School             [639.0]           76.711767   \nHuang High School                [655.0]           76.629414   \nJohnson High School              [650.0]           77.072464   \nFord High School                 [644.0]           77.102592   \n\n                       Average Reading Score  % Passing Math  \\\nschool_name                                                    \nRodriguez High School              80.744686        0.663666   \nFigueroa High School               81.158020        0.659885   \nHuang High School                  81.182722        0.656839   \nJohnson High School                80.966394        0.660576   \nFord High School                   80.746258        0.683096   \n\n                       % Passing Reading  Overall Passing Rate  \nschool_name                                                     \nRodriguez High School           0.802201              0.732933  \nFigueroa High School            0.807392              0.733639  \nHuang High School               0.813164              0.735002  \nJohnson High School             0.812224              0.736400  \nFord High School                0.792990              0.738043  ",
      "text/html": "<div>\n<style scoped>\n    .dataframe tbody tr th:only-of-type {\n        vertical-align: middle;\n    }\n\n    .dataframe tbody tr th {\n        vertical-align: top;\n    }\n\n    .dataframe thead th {\n        text-align: right;\n    }\n</style>\n<table border=\"1\" class=\"dataframe\">\n  <thead>\n    <tr style=\"text-align: right;\">\n      <th></th>\n      <th>School Types</th>\n      <th>Students Per School</th>\n      <th>Budget Per School</th>\n      <th>Budget Per Student</th>\n      <th>Average Math Score</th>\n      <th>Average Reading Score</th>\n      <th>% Passing Math</th>\n      <th>% Passing Reading</th>\n      <th>Overall Passing Rate</th>\n    </tr>\n    <tr>\n      <th>school_name</th>\n      <th></th>\n      <th></th>\n      <th></th>\n      <th></th>\n      <th></th>\n      <th></th>\n      <th></th>\n      <th></th>\n      <th></th>\n    </tr>\n  </thead>\n  <tbody>\n    <tr>\n      <th>Rodriguez High School</th>\n      <td>[District]</td>\n      <td>3999</td>\n      <td>[2547363]</td>\n      <td>[637.0]</td>\n      <td>76.842711</td>\n      <td>80.744686</td>\n      <td>0.663666</td>\n      <td>0.802201</td>\n      <td>0.732933</td>\n    </tr>\n    <tr>\n      <th>Figueroa High School</th>\n      <td>[District]</td>\n      <td>2949</td>\n      <td>[1884411]</td>\n      <td>[639.0]</td>\n      <td>76.711767</td>\n      <td>81.158020</td>\n      <td>0.659885</td>\n      <td>0.807392</td>\n      <td>0.733639</td>\n    </tr>\n    <tr>\n      <th>Huang High School</th>\n      <td>[District]</td>\n      <td>2917</td>\n      <td>[1910635]</td>\n      <td>[655.0]</td>\n      <td>76.629414</td>\n      <td>81.182722</td>\n      <td>0.656839</td>\n      <td>0.813164</td>\n      <td>0.735002</td>\n    </tr>\n    <tr>\n      <th>Johnson High School</th>\n      <td>[District]</td>\n      <td>4761</td>\n      <td>[3094650]</td>\n      <td>[650.0]</td>\n      <td>77.072464</td>\n      <td>80.966394</td>\n      <td>0.660576</td>\n      <td>0.812224</td>\n      <td>0.736400</td>\n    </tr>\n    <tr>\n      <th>Ford High School</th>\n      <td>[District]</td>\n      <td>2739</td>\n      <td>[1763916]</td>\n      <td>[644.0]</td>\n      <td>77.102592</td>\n      <td>80.746258</td>\n      <td>0.683096</td>\n      <td>0.792990</td>\n      <td>0.738043</td>\n    </tr>\n  </tbody>\n</table>\n</div>"
     },
     "metadata": {},
     "execution_count": 43
    }
   ],
   "source": [
    "schoolsummary.nsmallest(5, [\"Overall Passing Rate\"])"
   ]
  },
  {
   "cell_type": "code",
   "execution_count": 70,
   "metadata": {},
   "outputs": [],
   "source": [
    "m9=sdc[sdc[\"grade\"] == \"9th\"].groupby(\"school_name\")[\"math_score\"].mean()\n",
    "m10=sdc[sdc[\"grade\"] == \"10th\"].groupby(\"school_name\")[\"math_score\"].mean()\n",
    "m11=sdc[sdc[\"grade\"] == \"11th\"].groupby(\"school_name\")[\"math_score\"].mean()\n",
    "m12=sdc[sdc[\"grade\"] == \"12th\"].groupby(\"school_name\")[\"math_score\"].mean()\n",
    "\n",
    "grademathscores = pd.DataFrame({\n",
    "                                \"9th\" : m9,\n",
    "                                \"10th\":m10,\n",
    "                                \"11th\":m11,\n",
    "                                \"12th\":m12\n",
    "})"
   ]
  },
  {
   "cell_type": "code",
   "execution_count": 71,
   "metadata": {},
   "outputs": [
    {
     "output_type": "execute_result",
     "data": {
      "text/plain": "                             9th       10th       11th       12th\nschool_name                                                      \nBailey High School     77.083676  76.996772  77.515588  76.492218\nCabrera High School    83.094697  83.154506  82.765560  83.277487\nFigueroa High School   76.403037  76.539974  76.884344  77.151369\nFord High School       77.361345  77.672316  76.918058  76.179963\nGriffin High School    82.044010  84.229064  83.842105  83.356164\nHernandez High School  77.438495  77.337408  77.136029  77.186567\nHolden High School     83.787402  83.429825  85.000000  82.855422\nHuang High School      77.027251  75.908735  76.446602  77.225641\nJohnson High School    77.187857  76.691117  77.491653  76.863248\nPena High School       83.625455  83.372000  84.328125  84.121547\nRodriguez High School  76.859966  76.612500  76.395626  77.690748\nShelton High School    83.420755  82.917411  83.383495  83.778976\nThomas High School     83.590022  83.087886  83.498795  83.497041\nWilson High School     83.085578  83.724422  83.195326  83.035794\nWright High School     83.264706  84.010288  83.836782  83.644986",
      "text/html": "<div>\n<style scoped>\n    .dataframe tbody tr th:only-of-type {\n        vertical-align: middle;\n    }\n\n    .dataframe tbody tr th {\n        vertical-align: top;\n    }\n\n    .dataframe thead th {\n        text-align: right;\n    }\n</style>\n<table border=\"1\" class=\"dataframe\">\n  <thead>\n    <tr style=\"text-align: right;\">\n      <th></th>\n      <th>9th</th>\n      <th>10th</th>\n      <th>11th</th>\n      <th>12th</th>\n    </tr>\n    <tr>\n      <th>school_name</th>\n      <th></th>\n      <th></th>\n      <th></th>\n      <th></th>\n    </tr>\n  </thead>\n  <tbody>\n    <tr>\n      <th>Bailey High School</th>\n      <td>77.083676</td>\n      <td>76.996772</td>\n      <td>77.515588</td>\n      <td>76.492218</td>\n    </tr>\n    <tr>\n      <th>Cabrera High School</th>\n      <td>83.094697</td>\n      <td>83.154506</td>\n      <td>82.765560</td>\n      <td>83.277487</td>\n    </tr>\n    <tr>\n      <th>Figueroa High School</th>\n      <td>76.403037</td>\n      <td>76.539974</td>\n      <td>76.884344</td>\n      <td>77.151369</td>\n    </tr>\n    <tr>\n      <th>Ford High School</th>\n      <td>77.361345</td>\n      <td>77.672316</td>\n      <td>76.918058</td>\n      <td>76.179963</td>\n    </tr>\n    <tr>\n      <th>Griffin High School</th>\n      <td>82.044010</td>\n      <td>84.229064</td>\n      <td>83.842105</td>\n      <td>83.356164</td>\n    </tr>\n    <tr>\n      <th>Hernandez High School</th>\n      <td>77.438495</td>\n      <td>77.337408</td>\n      <td>77.136029</td>\n      <td>77.186567</td>\n    </tr>\n    <tr>\n      <th>Holden High School</th>\n      <td>83.787402</td>\n      <td>83.429825</td>\n      <td>85.000000</td>\n      <td>82.855422</td>\n    </tr>\n    <tr>\n      <th>Huang High School</th>\n      <td>77.027251</td>\n      <td>75.908735</td>\n      <td>76.446602</td>\n      <td>77.225641</td>\n    </tr>\n    <tr>\n      <th>Johnson High School</th>\n      <td>77.187857</td>\n      <td>76.691117</td>\n      <td>77.491653</td>\n      <td>76.863248</td>\n    </tr>\n    <tr>\n      <th>Pena High School</th>\n      <td>83.625455</td>\n      <td>83.372000</td>\n      <td>84.328125</td>\n      <td>84.121547</td>\n    </tr>\n    <tr>\n      <th>Rodriguez High School</th>\n      <td>76.859966</td>\n      <td>76.612500</td>\n      <td>76.395626</td>\n      <td>77.690748</td>\n    </tr>\n    <tr>\n      <th>Shelton High School</th>\n      <td>83.420755</td>\n      <td>82.917411</td>\n      <td>83.383495</td>\n      <td>83.778976</td>\n    </tr>\n    <tr>\n      <th>Thomas High School</th>\n      <td>83.590022</td>\n      <td>83.087886</td>\n      <td>83.498795</td>\n      <td>83.497041</td>\n    </tr>\n    <tr>\n      <th>Wilson High School</th>\n      <td>83.085578</td>\n      <td>83.724422</td>\n      <td>83.195326</td>\n      <td>83.035794</td>\n    </tr>\n    <tr>\n      <th>Wright High School</th>\n      <td>83.264706</td>\n      <td>84.010288</td>\n      <td>83.836782</td>\n      <td>83.644986</td>\n    </tr>\n  </tbody>\n</table>\n</div>"
     },
     "metadata": {},
     "execution_count": 71
    }
   ],
   "source": [
    "grademathscores"
   ]
  },
  {
   "cell_type": "code",
   "execution_count": 72,
   "metadata": {},
   "outputs": [],
   "source": [
    "m9=sdc[sdc[\"grade\"] == \"9th\"].groupby(\"school_name\")[\"reading_score\"].mean()\n",
    "m10=sdc[sdc[\"grade\"] == \"10th\"].groupby(\"school_name\")[\"reading_score\"].mean()\n",
    "m11=sdc[sdc[\"grade\"] == \"11th\"].groupby(\"school_name\")[\"reading_score\"].mean()\n",
    "m12=sdc[sdc[\"grade\"] == \"12th\"].groupby(\"school_name\")[\"reading_score\"].mean()\n",
    "\n",
    "gradereadscores = pd.DataFrame({\n",
    "                                \"9th\" : m9,\n",
    "                                \"10th\":m10,\n",
    "                                \"11th\":m11,\n",
    "                                \"12th\":m12\n",
    "})"
   ]
  },
  {
   "cell_type": "code",
   "execution_count": 73,
   "metadata": {},
   "outputs": [
    {
     "output_type": "execute_result",
     "data": {
      "text/plain": "                             9th       10th       11th       12th\nschool_name                                                      \nBailey High School     81.303155  80.907183  80.945643  80.912451\nCabrera High School    83.676136  84.253219  83.788382  84.287958\nFigueroa High School   81.198598  81.408912  80.640339  81.384863\nFord High School       80.632653  81.262712  80.403642  80.662338\nGriffin High School    83.369193  83.706897  84.288089  84.013699\nHernandez High School  80.866860  80.660147  81.396140  80.857143\nHolden High School     83.677165  83.324561  83.815534  84.698795\nHuang High School      81.290284  81.512386  81.417476  80.305983\nJohnson High School    81.260714  80.773431  80.616027  81.227564\nPena High School       83.807273  83.612000  84.335938  84.591160\nRodriguez High School  80.993127  80.629808  80.864811  80.376426\nShelton High School    84.122642  83.441964  84.373786  82.781671\nThomas High School     83.728850  84.254157  83.585542  83.831361\nWilson High School     83.939778  84.021452  83.764608  84.317673\nWright High School     83.833333  83.812757  84.156322  84.073171",
      "text/html": "<div>\n<style scoped>\n    .dataframe tbody tr th:only-of-type {\n        vertical-align: middle;\n    }\n\n    .dataframe tbody tr th {\n        vertical-align: top;\n    }\n\n    .dataframe thead th {\n        text-align: right;\n    }\n</style>\n<table border=\"1\" class=\"dataframe\">\n  <thead>\n    <tr style=\"text-align: right;\">\n      <th></th>\n      <th>9th</th>\n      <th>10th</th>\n      <th>11th</th>\n      <th>12th</th>\n    </tr>\n    <tr>\n      <th>school_name</th>\n      <th></th>\n      <th></th>\n      <th></th>\n      <th></th>\n    </tr>\n  </thead>\n  <tbody>\n    <tr>\n      <th>Bailey High School</th>\n      <td>81.303155</td>\n      <td>80.907183</td>\n      <td>80.945643</td>\n      <td>80.912451</td>\n    </tr>\n    <tr>\n      <th>Cabrera High School</th>\n      <td>83.676136</td>\n      <td>84.253219</td>\n      <td>83.788382</td>\n      <td>84.287958</td>\n    </tr>\n    <tr>\n      <th>Figueroa High School</th>\n      <td>81.198598</td>\n      <td>81.408912</td>\n      <td>80.640339</td>\n      <td>81.384863</td>\n    </tr>\n    <tr>\n      <th>Ford High School</th>\n      <td>80.632653</td>\n      <td>81.262712</td>\n      <td>80.403642</td>\n      <td>80.662338</td>\n    </tr>\n    <tr>\n      <th>Griffin High School</th>\n      <td>83.369193</td>\n      <td>83.706897</td>\n      <td>84.288089</td>\n      <td>84.013699</td>\n    </tr>\n    <tr>\n      <th>Hernandez High School</th>\n      <td>80.866860</td>\n      <td>80.660147</td>\n      <td>81.396140</td>\n      <td>80.857143</td>\n    </tr>\n    <tr>\n      <th>Holden High School</th>\n      <td>83.677165</td>\n      <td>83.324561</td>\n      <td>83.815534</td>\n      <td>84.698795</td>\n    </tr>\n    <tr>\n      <th>Huang High School</th>\n      <td>81.290284</td>\n      <td>81.512386</td>\n      <td>81.417476</td>\n      <td>80.305983</td>\n    </tr>\n    <tr>\n      <th>Johnson High School</th>\n      <td>81.260714</td>\n      <td>80.773431</td>\n      <td>80.616027</td>\n      <td>81.227564</td>\n    </tr>\n    <tr>\n      <th>Pena High School</th>\n      <td>83.807273</td>\n      <td>83.612000</td>\n      <td>84.335938</td>\n      <td>84.591160</td>\n    </tr>\n    <tr>\n      <th>Rodriguez High School</th>\n      <td>80.993127</td>\n      <td>80.629808</td>\n      <td>80.864811</td>\n      <td>80.376426</td>\n    </tr>\n    <tr>\n      <th>Shelton High School</th>\n      <td>84.122642</td>\n      <td>83.441964</td>\n      <td>84.373786</td>\n      <td>82.781671</td>\n    </tr>\n    <tr>\n      <th>Thomas High School</th>\n      <td>83.728850</td>\n      <td>84.254157</td>\n      <td>83.585542</td>\n      <td>83.831361</td>\n    </tr>\n    <tr>\n      <th>Wilson High School</th>\n      <td>83.939778</td>\n      <td>84.021452</td>\n      <td>83.764608</td>\n      <td>84.317673</td>\n    </tr>\n    <tr>\n      <th>Wright High School</th>\n      <td>83.833333</td>\n      <td>83.812757</td>\n      <td>84.156322</td>\n      <td>84.073171</td>\n    </tr>\n  </tbody>\n</table>\n</div>"
     },
     "metadata": {},
     "execution_count": 73
    }
   ],
   "source": [
    "gradereadscores"
   ]
  },
  {
   "cell_type": "code",
   "execution_count": null,
   "metadata": {},
   "outputs": [],
   "source": []
  }
 ]
}