{
 "cells": [
  {
   "cell_type": "code",
   "execution_count": 103,
   "metadata": {},
   "outputs": [],
   "source": [
    "# Dependencies\n",
    "import pandas as pd"
   ]
  },
  {
   "cell_type": "code",
   "execution_count": 104,
   "metadata": {},
   "outputs": [],
   "source": [
    "# path file\n",
    "filepath = \"Resources/purchase_data.csv\""
   ]
  },
  {
   "cell_type": "code",
   "execution_count": 105,
   "metadata": {},
   "outputs": [
    {
     "output_type": "execute_result",
     "data": {
      "text/plain": "   Purchase ID             SN  Age Gender  Item ID  \\\n0            0        Lisim78   20   Male      108   \n1            1    Lisovynya38   40   Male      143   \n2            2     Ithergue48   24   Male       92   \n3            3  Chamassasya86   24   Male      100   \n4            4      Iskosia90   23   Male      131   \n\n                                   Item Name  Price  \n0  Extraction, Quickblade Of Trembling Hands   3.53  \n1                          Frenzied Scimitar   1.56  \n2                               Final Critic   4.88  \n3                                Blindscythe   3.27  \n4                                       Fury   1.44  ",
      "text/html": "<div>\n<style scoped>\n    .dataframe tbody tr th:only-of-type {\n        vertical-align: middle;\n    }\n\n    .dataframe tbody tr th {\n        vertical-align: top;\n    }\n\n    .dataframe thead th {\n        text-align: right;\n    }\n</style>\n<table border=\"1\" class=\"dataframe\">\n  <thead>\n    <tr style=\"text-align: right;\">\n      <th></th>\n      <th>Purchase ID</th>\n      <th>SN</th>\n      <th>Age</th>\n      <th>Gender</th>\n      <th>Item ID</th>\n      <th>Item Name</th>\n      <th>Price</th>\n    </tr>\n  </thead>\n  <tbody>\n    <tr>\n      <th>0</th>\n      <td>0</td>\n      <td>Lisim78</td>\n      <td>20</td>\n      <td>Male</td>\n      <td>108</td>\n      <td>Extraction, Quickblade Of Trembling Hands</td>\n      <td>3.53</td>\n    </tr>\n    <tr>\n      <th>1</th>\n      <td>1</td>\n      <td>Lisovynya38</td>\n      <td>40</td>\n      <td>Male</td>\n      <td>143</td>\n      <td>Frenzied Scimitar</td>\n      <td>1.56</td>\n    </tr>\n    <tr>\n      <th>2</th>\n      <td>2</td>\n      <td>Ithergue48</td>\n      <td>24</td>\n      <td>Male</td>\n      <td>92</td>\n      <td>Final Critic</td>\n      <td>4.88</td>\n    </tr>\n    <tr>\n      <th>3</th>\n      <td>3</td>\n      <td>Chamassasya86</td>\n      <td>24</td>\n      <td>Male</td>\n      <td>100</td>\n      <td>Blindscythe</td>\n      <td>3.27</td>\n    </tr>\n    <tr>\n      <th>4</th>\n      <td>4</td>\n      <td>Iskosia90</td>\n      <td>23</td>\n      <td>Male</td>\n      <td>131</td>\n      <td>Fury</td>\n      <td>1.44</td>\n    </tr>\n  </tbody>\n</table>\n</div>"
     },
     "metadata": {},
     "execution_count": 105
    }
   ],
   "source": [
    "# Create dataframe\n",
    "rawdata_df = pd.read_csv(filepath, encoding=\"ISO-8859-1\")\n",
    "copydata = rawdata_df.copy()\n",
    "copydata.head()"
   ]
  },
  {
   "cell_type": "code",
   "execution_count": 106,
   "metadata": {},
   "outputs": [
    {
     "output_type": "execute_result",
     "data": {
      "text/plain": "   Total Players\n0            576",
      "text/html": "<div>\n<style scoped>\n    .dataframe tbody tr th:only-of-type {\n        vertical-align: middle;\n    }\n\n    .dataframe tbody tr th {\n        vertical-align: top;\n    }\n\n    .dataframe thead th {\n        text-align: right;\n    }\n</style>\n<table border=\"1\" class=\"dataframe\">\n  <thead>\n    <tr style=\"text-align: right;\">\n      <th></th>\n      <th>Total Players</th>\n    </tr>\n  </thead>\n  <tbody>\n    <tr>\n      <th>0</th>\n      <td>576</td>\n    </tr>\n  </tbody>\n</table>\n</div>"
     },
     "metadata": {},
     "execution_count": 106
    }
   ],
   "source": [
    "### Player Count\n",
    "total = len(copydata[\"SN\"].value_counts())\n",
    "totalplayers = pd.DataFrame({\"Total Players\": [total]})\n",
    "totalplayers"
   ]
  },
  {
   "cell_type": "code",
   "execution_count": 107,
   "metadata": {},
   "outputs": [
    {
     "output_type": "execute_result",
     "data": {
      "text/plain": "   Unique Items Average Price  Total Purchases    Revenue\n0           179         $3.05              780  $2,379.77",
      "text/html": "<div>\n<style scoped>\n    .dataframe tbody tr th:only-of-type {\n        vertical-align: middle;\n    }\n\n    .dataframe tbody tr th {\n        vertical-align: top;\n    }\n\n    .dataframe thead th {\n        text-align: right;\n    }\n</style>\n<table border=\"1\" class=\"dataframe\">\n  <thead>\n    <tr style=\"text-align: right;\">\n      <th></th>\n      <th>Unique Items</th>\n      <th>Average Price</th>\n      <th>Total Purchases</th>\n      <th>Revenue</th>\n    </tr>\n  </thead>\n  <tbody>\n    <tr>\n      <th>0</th>\n      <td>179</td>\n      <td>$3.05</td>\n      <td>780</td>\n      <td>$2,379.77</td>\n    </tr>\n  </tbody>\n</table>\n</div>"
     },
     "metadata": {},
     "execution_count": 107
    }
   ],
   "source": [
    "### Purchasing Analysis (Total)\n",
    "\n",
    "unique_item = copydata[\"Item ID\"].drop_duplicates().count()\n",
    "avg_price = copydata[\"Price\"].mean()\n",
    "totalpurchases = copydata[\"Purchase ID\"].count() \n",
    "revenue = copydata[\"Price\"].sum()# \n",
    "\n",
    "pa_df = pd.DataFrame({\"Unique Items\": [unique_item],\n",
    "                                      \"Average Price\" : [avg_price],\n",
    "                                      \"Total Purchases\" : [totalpurchases],\n",
    "                                      \"Revenue\":[revenue]})\n",
    "pa_df[\"Average Price\"] = pa_df[\"Average Price\"].map(\"${:.2f}\".format)\n",
    "pa_df[\"Revenue\"] = pa_df[\"Revenue\"].map(\"${:,.2f}\".format)\n",
    "pa_df"
   ]
  },
  {
   "cell_type": "code",
   "execution_count": 108,
   "metadata": {},
   "outputs": [
    {
     "output_type": "execute_result",
     "data": {
      "text/plain": "                       Total Count Percentage\nGender                                       \nFemale                          81     14.06%\nMale                           484     84.03%\nOther / Non-Disclosed           11      1.91%",
      "text/html": "<div>\n<style scoped>\n    .dataframe tbody tr th:only-of-type {\n        vertical-align: middle;\n    }\n\n    .dataframe tbody tr th {\n        vertical-align: top;\n    }\n\n    .dataframe thead th {\n        text-align: right;\n    }\n</style>\n<table border=\"1\" class=\"dataframe\">\n  <thead>\n    <tr style=\"text-align: right;\">\n      <th></th>\n      <th>Total Count</th>\n      <th>Percentage</th>\n    </tr>\n    <tr>\n      <th>Gender</th>\n      <th></th>\n      <th></th>\n    </tr>\n  </thead>\n  <tbody>\n    <tr>\n      <th>Female</th>\n      <td>81</td>\n      <td>14.06%</td>\n    </tr>\n    <tr>\n      <th>Male</th>\n      <td>484</td>\n      <td>84.03%</td>\n    </tr>\n    <tr>\n      <th>Other / Non-Disclosed</th>\n      <td>11</td>\n      <td>1.91%</td>\n    </tr>\n  </tbody>\n</table>\n</div>"
     },
     "metadata": {},
     "execution_count": 108
    }
   ],
   "source": [
    "# ### Gender Demographics\n",
    "gd = copydata.groupby(\"Gender\")\n",
    "gdcount = gd.nunique()[\"SN\"]\n",
    "gcp = (gdcount / total) * 100\n",
    "gc_df = pd.DataFrame({\"Total Count\":gdcount,\"Percentage\":gcp})\n",
    "gc_df[\"Percentage\"] = gc_df[\"Percentage\"].map(\"{:.2f}%\".format)\n",
    "gc_df"
   ]
  },
  {
   "cell_type": "code",
   "execution_count": 109,
   "metadata": {},
   "outputs": [
    {
     "output_type": "execute_result",
     "data": {
      "text/plain": "                       Purchase Count Average Purchase Price  \\\nGender                                                         \nFemale                            113                  $3.20   \nMale                              652                  $3.02   \nOther / Non-Disclosed              15                  $3.35   \n\n                      Total Purchase Value Average Purchase Total per Person  \nGender                                                                        \nFemale                             $361.94                             $4.47  \nMale                             $1,967.64                             $4.07  \nOther / Non-Disclosed               $50.19                             $4.56  ",
      "text/html": "<div>\n<style scoped>\n    .dataframe tbody tr th:only-of-type {\n        vertical-align: middle;\n    }\n\n    .dataframe tbody tr th {\n        vertical-align: top;\n    }\n\n    .dataframe thead th {\n        text-align: right;\n    }\n</style>\n<table border=\"1\" class=\"dataframe\">\n  <thead>\n    <tr style=\"text-align: right;\">\n      <th></th>\n      <th>Purchase Count</th>\n      <th>Average Purchase Price</th>\n      <th>Total Purchase Value</th>\n      <th>Average Purchase Total per Person</th>\n    </tr>\n    <tr>\n      <th>Gender</th>\n      <th></th>\n      <th></th>\n      <th></th>\n      <th></th>\n    </tr>\n  </thead>\n  <tbody>\n    <tr>\n      <th>Female</th>\n      <td>113</td>\n      <td>$3.20</td>\n      <td>$361.94</td>\n      <td>$4.47</td>\n    </tr>\n    <tr>\n      <th>Male</th>\n      <td>652</td>\n      <td>$3.02</td>\n      <td>$1,967.64</td>\n      <td>$4.07</td>\n    </tr>\n    <tr>\n      <th>Other / Non-Disclosed</th>\n      <td>15</td>\n      <td>$3.35</td>\n      <td>$50.19</td>\n      <td>$4.56</td>\n    </tr>\n  </tbody>\n</table>\n</div>"
     },
     "metadata": {},
     "execution_count": 109
    }
   ],
   "source": [
    "# ### Purchasing Analysis (Gender)\n",
    "gendergrouped = copydata.groupby([\"Gender\"])\n",
    "gendercount = gendergrouped[\"Purchase ID\"].count()\n",
    "genderavg = gendergrouped[\"Price\"].mean()\n",
    "gendertotal = gendergrouped[\"Price\"].sum()\n",
    "avgpp = gendertotal/gendergrouped.nunique()[\"SN\"]\n",
    "\n",
    "pag_df = pd.DataFrame({\"Purchase Count\": gendercount,\n",
    "                      \"Average Purchase Price\": genderavg,\n",
    "                      \"Total Purchase Value\": gendertotal,\n",
    "                      \"Average Purchase Total per Person\": avgpp})\n",
    "\n",
    "pag_df[\"Average Purchase Price\"] = pag_df[\"Average Purchase Price\"].map(\"${:.2f}\".format)\n",
    "pag_df[\"Total Purchase Value\"] = pag_df[\"Total Purchase Value\"].map(\"${:,.2f}\".format)\n",
    "pag_df[\"Average Purchase Total per Person\"] = pag_df[\"Average Purchase Total per Person\"].map(\"${:,.2f}\".format)\n",
    "\n",
    "pag_df"
   ]
  },
  {
   "cell_type": "code",
   "execution_count": 110,
   "metadata": {},
   "outputs": [
    {
     "output_type": "execute_result",
     "data": {
      "text/plain": "           Total Count Percentage of Players\nAge Group                                   \nUnder 10            17                 2.95%\n10-14               22                 3.82%\n15-19              107                18.58%\n20-24              258                44.79%\n25-29               77                13.37%\n30-34               52                 9.03%\n35-40               31                 5.38%\nAbove 40            12                 2.08%",
      "text/html": "<div>\n<style scoped>\n    .dataframe tbody tr th:only-of-type {\n        vertical-align: middle;\n    }\n\n    .dataframe tbody tr th {\n        vertical-align: top;\n    }\n\n    .dataframe thead th {\n        text-align: right;\n    }\n</style>\n<table border=\"1\" class=\"dataframe\">\n  <thead>\n    <tr style=\"text-align: right;\">\n      <th></th>\n      <th>Total Count</th>\n      <th>Percentage of Players</th>\n    </tr>\n    <tr>\n      <th>Age Group</th>\n      <th></th>\n      <th></th>\n    </tr>\n  </thead>\n  <tbody>\n    <tr>\n      <th>Under 10</th>\n      <td>17</td>\n      <td>2.95%</td>\n    </tr>\n    <tr>\n      <th>10-14</th>\n      <td>22</td>\n      <td>3.82%</td>\n    </tr>\n    <tr>\n      <th>15-19</th>\n      <td>107</td>\n      <td>18.58%</td>\n    </tr>\n    <tr>\n      <th>20-24</th>\n      <td>258</td>\n      <td>44.79%</td>\n    </tr>\n    <tr>\n      <th>25-29</th>\n      <td>77</td>\n      <td>13.37%</td>\n    </tr>\n    <tr>\n      <th>30-34</th>\n      <td>52</td>\n      <td>9.03%</td>\n    </tr>\n    <tr>\n      <th>35-40</th>\n      <td>31</td>\n      <td>5.38%</td>\n    </tr>\n    <tr>\n      <th>Above 40</th>\n      <td>12</td>\n      <td>2.08%</td>\n    </tr>\n  </tbody>\n</table>\n</div>"
     },
     "metadata": {},
     "execution_count": 110
    }
   ],
   "source": [
    "agebins = [0, 9, 14, 19, 24, 29, 34, 39, 200]\n",
    "agelabels = [\"Under 10\", \"10-14\", \"15-19\", \"20-24\", \"25-29\", \"30-34\", \"35-40\", \"Above 40\"]\n",
    "copydata[\"Age Group\"] = pd.cut(copydata[\"Age\"],agebins,labels=agelabels, include_lowest=True)\n",
    "agegrouped = copydata.groupby(\"Age Group\")\n",
    "agecount = agegrouped[\"SN\"].nunique()\n",
    "ageperc = (agecount/total)\n",
    "age_demo = pd.DataFrame({\"Total Count\":agecount,\n",
    "            \"Percentage of Players\":ageperc})\n",
    "age_demo[\"Percentage of Players\"]=age_demo[\"Percentage of Players\"].map(\"{:,.2%}\".format)\n",
    "age_demo"
   ]
  },
  {
   "cell_type": "code",
   "execution_count": 111,
   "metadata": {},
   "outputs": [
    {
     "output_type": "execute_result",
     "data": {
      "text/plain": "           Purchase Count Average Purchase Price Total Purchase Value  \\\nAge Group                                                               \nUnder 10               23                  $3.35               $77.13   \n10-14                  28                  $2.96               $82.78   \n15-19                 136                  $3.04              $412.89   \n20-24                 365                  $3.05            $1,114.06   \n25-29                 101                  $2.90              $293.00   \n30-34                  73                  $2.93              $214.00   \n35-40                  41                  $3.60              $147.67   \nAbove 40               13                  $2.94               $38.24   \n\n          Average Purchase Total per Person  \nAge Group                                    \nUnder 10                              $4.54  \n10-14                                 $3.76  \n15-19                                 $3.86  \n20-24                                 $4.32  \n25-29                                 $3.81  \n30-34                                 $4.12  \n35-40                                 $4.76  \nAbove 40                              $3.19  ",
      "text/html": "<div>\n<style scoped>\n    .dataframe tbody tr th:only-of-type {\n        vertical-align: middle;\n    }\n\n    .dataframe tbody tr th {\n        vertical-align: top;\n    }\n\n    .dataframe thead th {\n        text-align: right;\n    }\n</style>\n<table border=\"1\" class=\"dataframe\">\n  <thead>\n    <tr style=\"text-align: right;\">\n      <th></th>\n      <th>Purchase Count</th>\n      <th>Average Purchase Price</th>\n      <th>Total Purchase Value</th>\n      <th>Average Purchase Total per Person</th>\n    </tr>\n    <tr>\n      <th>Age Group</th>\n      <th></th>\n      <th></th>\n      <th></th>\n      <th></th>\n    </tr>\n  </thead>\n  <tbody>\n    <tr>\n      <th>Under 10</th>\n      <td>23</td>\n      <td>$3.35</td>\n      <td>$77.13</td>\n      <td>$4.54</td>\n    </tr>\n    <tr>\n      <th>10-14</th>\n      <td>28</td>\n      <td>$2.96</td>\n      <td>$82.78</td>\n      <td>$3.76</td>\n    </tr>\n    <tr>\n      <th>15-19</th>\n      <td>136</td>\n      <td>$3.04</td>\n      <td>$412.89</td>\n      <td>$3.86</td>\n    </tr>\n    <tr>\n      <th>20-24</th>\n      <td>365</td>\n      <td>$3.05</td>\n      <td>$1,114.06</td>\n      <td>$4.32</td>\n    </tr>\n    <tr>\n      <th>25-29</th>\n      <td>101</td>\n      <td>$2.90</td>\n      <td>$293.00</td>\n      <td>$3.81</td>\n    </tr>\n    <tr>\n      <th>30-34</th>\n      <td>73</td>\n      <td>$2.93</td>\n      <td>$214.00</td>\n      <td>$4.12</td>\n    </tr>\n    <tr>\n      <th>35-40</th>\n      <td>41</td>\n      <td>$3.60</td>\n      <td>$147.67</td>\n      <td>$4.76</td>\n    </tr>\n    <tr>\n      <th>Above 40</th>\n      <td>13</td>\n      <td>$2.94</td>\n      <td>$38.24</td>\n      <td>$3.19</td>\n    </tr>\n  </tbody>\n</table>\n</div>"
     },
     "metadata": {},
     "execution_count": 111
    }
   ],
   "source": [
    "###### ### Age Demographics\n",
    "\n",
    "# * The below each broken into bins of 4 years (i.e. &lt;10, 10-14, 15-19, etc.)\n",
    "#   * Purchase Count\n",
    "#   * Average Purchase Price\n",
    "#   * Total Purchase Value\n",
    "#   * Average Purchase Total per Person by Age Group\n",
    "agepurchcount = agegrouped[\"Purchase ID\"].count()\n",
    "ageavgprice = agegrouped[\"Price\"].mean()\n",
    "agetotalval = agegrouped[\"Price\"].sum()\n",
    "avgagetpp = agetotalval/agecount\n",
    "\n",
    "pd_df = pd.DataFrame({\"Purchase Count\": agepurchcount,\n",
    "                               \"Average Purchase Price\": ageavgprice,\n",
    "                               \"Total Purchase Value\": agetotalval,\n",
    "                               \"Average Purchase Total per Person\": avgagetpp})\n",
    "\n",
    "pd_df[\"Average Purchase Price\"] = pd_df[\"Average Purchase Price\"].map(\"${:.2f}\".format)\n",
    "pd_df[\"Total Purchase Value\"] = pd_df[\"Total Purchase Value\"].map(\"${:,.2f}\".format)\n",
    "pd_df[\"Average Purchase Total per Person\"] = pd_df[\"Average Purchase Total per Person\"].map(\"${:,.2f}\".format)\n",
    "pd_df"
   ]
  },
  {
   "cell_type": "code",
   "execution_count": 112,
   "metadata": {},
   "outputs": [
    {
     "output_type": "execute_result",
     "data": {
      "text/plain": "             Purchase Count Average Purchase Price Total Purchase Value\nSN                                                                     \nLisosia93                 5                  $3.79               $18.96\nIdastidru52               4                  $3.86               $15.45\nChamjask73                3                  $4.61               $13.83\nIral74                    4                  $3.40               $13.62\nIskadarya95               3                  $4.37               $13.10",
      "text/html": "<div>\n<style scoped>\n    .dataframe tbody tr th:only-of-type {\n        vertical-align: middle;\n    }\n\n    .dataframe tbody tr th {\n        vertical-align: top;\n    }\n\n    .dataframe thead th {\n        text-align: right;\n    }\n</style>\n<table border=\"1\" class=\"dataframe\">\n  <thead>\n    <tr style=\"text-align: right;\">\n      <th></th>\n      <th>Purchase Count</th>\n      <th>Average Purchase Price</th>\n      <th>Total Purchase Value</th>\n    </tr>\n    <tr>\n      <th>SN</th>\n      <th></th>\n      <th></th>\n      <th></th>\n    </tr>\n  </thead>\n  <tbody>\n    <tr>\n      <th>Lisosia93</th>\n      <td>5</td>\n      <td>$3.79</td>\n      <td>$18.96</td>\n    </tr>\n    <tr>\n      <th>Idastidru52</th>\n      <td>4</td>\n      <td>$3.86</td>\n      <td>$15.45</td>\n    </tr>\n    <tr>\n      <th>Chamjask73</th>\n      <td>3</td>\n      <td>$4.61</td>\n      <td>$13.83</td>\n    </tr>\n    <tr>\n      <th>Iral74</th>\n      <td>4</td>\n      <td>$3.40</td>\n      <td>$13.62</td>\n    </tr>\n    <tr>\n      <th>Iskadarya95</th>\n      <td>3</td>\n      <td>$4.37</td>\n      <td>$13.10</td>\n    </tr>\n  </tbody>\n</table>\n</div>"
     },
     "metadata": {},
     "execution_count": 112
    }
   ],
   "source": [
    "# ### Top Spenders\n",
    "# * Identify the the top 5 spenders in the game by total purchase value, then list (in a table):\n",
    "#   * SN\n",
    "#   * Purchase Count\n",
    "#   * Average Purchase Price\n",
    "#   * Total Purchase Value\n",
    "spendinfo = copydata.groupby(\"SN\")\n",
    "purchasecountspender = spendinfo[\"Purchase ID\"].count()\n",
    "avgppspender = spendinfo[\"Price\"].mean()\n",
    "purchasetotalspender = spendinfo[\"Price\"].sum()\n",
    "topspenders_df = pd.DataFrame({\"Purchase Count\":purchasecountspender,\n",
    "                            \"Average Purchase Price\":avgppspender,\n",
    "                            \"Total Purchase Value\": purchasetotalspender})\n",
    "topspenders_df.head()\n",
    "\n",
    "sortedspenders_df = topspenders_df.sort_values([\"Total Purchase Value\"], ascending=False).head()\n",
    "sortedspenders_df[\"Average Purchase Price\"] = sortedspenders_df[\"Average Purchase Price\"].map(\"${:.2f}\".format)\n",
    "sortedspenders_df[\"Total Purchase Value\"] = sortedspenders_df[\"Total Purchase Value\"].map(\"${:,.2f}\".format)\n",
    "sortedspenders_df"
   ]
  },
  {
   "cell_type": "code",
   "execution_count": 137,
   "metadata": {},
   "outputs": [
    {
     "output_type": "execute_result",
     "data": {
      "text/plain": "                                                      Purchase Count  \\\nItem ID Item Name                                                      \n92      Final Critic                                              13   \n178     Oathbreaker, Last Hope of the Breaking Storm              12   \n145     Fiery Glass Crusader                                       9   \n132     Persuasion                                                 9   \n108     Extraction, Quickblade Of Trembling Hands                  9   \n\n                                                     Item Price  \\\nItem ID Item Name                                                 \n92      Final Critic                                      $4.61   \n178     Oathbreaker, Last Hope of the Breaking Storm      $4.23   \n145     Fiery Glass Crusader                              $4.58   \n132     Persuasion                                        $3.22   \n108     Extraction, Quickblade Of Trembling Hands         $3.53   \n\n                                                     Total Purchase Value  \nItem ID Item Name                                                          \n92      Final Critic                                               $59.99  \n178     Oathbreaker, Last Hope of the Breaking Storm               $50.76  \n145     Fiery Glass Crusader                                       $41.22  \n132     Persuasion                                                 $28.99  \n108     Extraction, Quickblade Of Trembling Hands                  $31.77  ",
      "text/html": "<div>\n<style scoped>\n    .dataframe tbody tr th:only-of-type {\n        vertical-align: middle;\n    }\n\n    .dataframe tbody tr th {\n        vertical-align: top;\n    }\n\n    .dataframe thead th {\n        text-align: right;\n    }\n</style>\n<table border=\"1\" class=\"dataframe\">\n  <thead>\n    <tr style=\"text-align: right;\">\n      <th></th>\n      <th></th>\n      <th>Purchase Count</th>\n      <th>Item Price</th>\n      <th>Total Purchase Value</th>\n    </tr>\n    <tr>\n      <th>Item ID</th>\n      <th>Item Name</th>\n      <th></th>\n      <th></th>\n      <th></th>\n    </tr>\n  </thead>\n  <tbody>\n    <tr>\n      <th>92</th>\n      <th>Final Critic</th>\n      <td>13</td>\n      <td>$4.61</td>\n      <td>$59.99</td>\n    </tr>\n    <tr>\n      <th>178</th>\n      <th>Oathbreaker, Last Hope of the Breaking Storm</th>\n      <td>12</td>\n      <td>$4.23</td>\n      <td>$50.76</td>\n    </tr>\n    <tr>\n      <th>145</th>\n      <th>Fiery Glass Crusader</th>\n      <td>9</td>\n      <td>$4.58</td>\n      <td>$41.22</td>\n    </tr>\n    <tr>\n      <th>132</th>\n      <th>Persuasion</th>\n      <td>9</td>\n      <td>$3.22</td>\n      <td>$28.99</td>\n    </tr>\n    <tr>\n      <th>108</th>\n      <th>Extraction, Quickblade Of Trembling Hands</th>\n      <td>9</td>\n      <td>$3.53</td>\n      <td>$31.77</td>\n    </tr>\n  </tbody>\n</table>\n</div>"
     },
     "metadata": {},
     "execution_count": 137
    }
   ],
   "source": [
    "# ### Most Popular Items\n",
    "                           \n",
    "# * Identify the 5 most popular items by purchase count, then list (in a table):\n",
    "#   * Item ID\n",
    "#   * Item Name\n",
    "#   * Purchase Count\n",
    "#   * Item Price\n",
    "#   * Total Purchase Value\n",
    "\n",
    "iteminfo= rawdata_df[[\"Item ID\",\"Item Name\",\"Price\"]]\n",
    "mpi_df = iteminfo.groupby([\"Item ID\", \"Item Name\"])\n",
    "itempurchasecount = mpi_df[\"Price\"].count()\n",
    "popitemsum = mpi_df[\"Price\"].sum()\n",
    "popitemprice = popitemsum/itempurchasecount\n",
    "cleanmpi_df = pd.DataFrame({\"Purchase Count\": itempurchasecount,\n",
    "                           \"Item Price\": popitemprice,\n",
    "                            \"Total Purchase Value\":popitemsum})\n",
    "\n",
    "cleanmpi_df[\"Item Price\"] = cleanmpi_df[\"Item Price\"].map(\"${:.2f}\".format)\n",
    "cleanmpi_df[\"Total Purchase Value\"] = cleanmpi_df[\"Total Purchase Value\"].map(\"${:,.2f}\".format)\n",
    "sortedcleanmpi_df= cleanmpi_df.sort_values(\"Purchase Count\", ascending = False)\n",
    "sortedcleanmpi_df.head()"
   ]
  },
  {
   "cell_type": "code",
   "execution_count": 135,
   "metadata": {},
   "outputs": [
    {
     "output_type": "execute_result",
     "data": {
      "text/plain": "                                           Purchase Count Item Price  \\\nItem ID Item Name                                                      \n63      Stormfury Mace                                  2      $4.99   \n29      Chaos, Ender of the End                         5      $1.98   \n173     Stormfury Longsword                             2      $4.93   \n38      The Void, Vengeance of Dark Magic               4      $2.37   \n143     Frenzied Scimitar                               6      $1.56   \n\n                                          Total Purchase Value  \nItem ID Item Name                                               \n63      Stormfury Mace                                   $9.98  \n29      Chaos, Ender of the End                          $9.90  \n173     Stormfury Longsword                              $9.86  \n38      The Void, Vengeance of Dark Magic                $9.48  \n143     Frenzied Scimitar                                $9.36  ",
      "text/html": "<div>\n<style scoped>\n    .dataframe tbody tr th:only-of-type {\n        vertical-align: middle;\n    }\n\n    .dataframe tbody tr th {\n        vertical-align: top;\n    }\n\n    .dataframe thead th {\n        text-align: right;\n    }\n</style>\n<table border=\"1\" class=\"dataframe\">\n  <thead>\n    <tr style=\"text-align: right;\">\n      <th></th>\n      <th></th>\n      <th>Purchase Count</th>\n      <th>Item Price</th>\n      <th>Total Purchase Value</th>\n    </tr>\n    <tr>\n      <th>Item ID</th>\n      <th>Item Name</th>\n      <th></th>\n      <th></th>\n      <th></th>\n    </tr>\n  </thead>\n  <tbody>\n    <tr>\n      <th>63</th>\n      <th>Stormfury Mace</th>\n      <td>2</td>\n      <td>$4.99</td>\n      <td>$9.98</td>\n    </tr>\n    <tr>\n      <th>29</th>\n      <th>Chaos, Ender of the End</th>\n      <td>5</td>\n      <td>$1.98</td>\n      <td>$9.90</td>\n    </tr>\n    <tr>\n      <th>173</th>\n      <th>Stormfury Longsword</th>\n      <td>2</td>\n      <td>$4.93</td>\n      <td>$9.86</td>\n    </tr>\n    <tr>\n      <th>38</th>\n      <th>The Void, Vengeance of Dark Magic</th>\n      <td>4</td>\n      <td>$2.37</td>\n      <td>$9.48</td>\n    </tr>\n    <tr>\n      <th>143</th>\n      <th>Frenzied Scimitar</th>\n      <td>6</td>\n      <td>$1.56</td>\n      <td>$9.36</td>\n    </tr>\n  </tbody>\n</table>\n</div>"
     },
     "metadata": {},
     "execution_count": 135
    }
   ],
   "source": [
    "# ### Most Profitable Items\n",
    "\n",
    "# * Identify the 5 most profitable items by total purchase value, then list (in a table):\n",
    "#   * Item ID\n",
    "#   * Item Name\n",
    "#   * Purchase Count\n",
    "#   * Item Price\n",
    "#   * Total Purchase Value\n",
    "most_profit = cleanmpi_df.sort_values(\"Total Purchase Value\", ascending=False)\n",
    "most_profit.head()\n",
    ""
   ]
  },
  {
   "cell_type": "code",
   "execution_count": null,
   "metadata": {},
   "outputs": [],
   "source": [
    "# As final considerations:\n",
    "\n",
    "# * You must use the Pandas Library and the Jupyter Notebook.\n",
    "# * You must submit a link to your Jupyter Notebook with the viewable Data Frames.\n",
    "# * You must include a written description of three observable trends based on the data.\n",
    "#  * See [Example Solution](HeroesOfPymoli/HeroesOfPymoli_starter.ipynb) for a reference on expected format."
   ]
  },
  {
   "cell_type": "code",
   "execution_count": 143,
   "metadata": {},
   "outputs": [
    {
     "output_type": "stream",
     "name": "stdout",
     "text": "Pymoli Analysis: Our users are predominantly male (84%) and most are within the 20-24 year old age range.Our most popula ritems are Final Critic and Oathbreaker.\n"
    }
   ],
   "source": [
    "analysis = (\"Pymoli Analysis: Our users are predominantly male (84%) and most are within the 20-24 year old age range.Our most popula ritems are Final Critic and Oathbreaker.\")\n",
    "\n",
    "print(analysis)"
   ]
  },
  {
   "cell_type": "code",
   "execution_count": null,
   "metadata": {},
   "outputs": [],
   "source": []
  }
 ],
 "metadata": {
  "kernelspec": {
   "display_name": "Python 3",
   "language": "python",
   "name": "python3"
  },
  "language_info": {
   "codemirror_mode": {
    "name": "ipython",
    "version": 3
   },
   "file_extension": ".py",
   "mimetype": "text/x-python",
   "name": "python",
   "nbconvert_exporter": "python",
   "pygments_lexer": "ipython3",
   "version": "3.7.4-final"
  }
 },
 "nbformat": 4,
 "nbformat_minor": 2
}